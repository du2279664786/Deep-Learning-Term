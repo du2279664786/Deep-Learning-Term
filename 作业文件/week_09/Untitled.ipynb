{
 "cells": [
  {
   "cell_type": "code",
   "execution_count": 1,
   "metadata": {},
   "outputs": [],
   "source": [
    "import pandas as pd\n",
    "\n",
    "#           [\"色泽\", \"根蒂\", \"敲声\", \"纹理\", \"脐部\", \"触感\", \"好瓜\"],\n",
    "datasets = pd.DataFrame([[\"青绿\", \"蜷缩\", \"浊响\", \"清晰\", \"凹陷\", \"硬滑\", \"是\"],\n",
    "                         [\"乌黑\", \"蜷缩\", \"沉闷\", \"清晰\", \"凹陷\", \"硬滑\", \"是\"],\n",
    "                         [\"乌黑\", \"蜷缩\", \"浊响\", \"清晰\", \"凹陷\", \"硬滑\", \"是\"],\n",
    "                         [\"青绿\", \"蜷缩\", \"沉闷\", \"清晰\", \"凹陷\", \"硬滑\", \"是\"],\n",
    "                         [\"浅白\", \"蜷缩\", \"浊响\", \"清晰\", \"凹陷\", \"硬滑\", \"是\"],\n",
    "                         [\"青绿\", \"稍蜷\", \"浊响\", \"清晰\", \"稍凹\", \"软粘\", \"是\"],\n",
    "                         [\"乌黑\", \"稍蜷\", \"浊响\", \"稍糊\", \"稍凹\", \"软粘\", \"是\"],\n",
    "                         [\"乌黑\", \"稍蜷\", \"浊响\", \"清晰\", \"稍凹\", \"硬滑\", \"是\"],\n",
    "                         [\"乌黑\", \"稍蜷\", \"沉闷\", \"稍糊\", \"稍凹\", \"硬滑\", \"否\"],\n",
    "                         [\"青绿\", \"硬挺\", \"清脆\", \"清晰\", \"平坦\", \"软粘\", \"否\"],\n",
    "                         [\"浅白\", \"硬挺\", \"清脆\", \"模糊\", \"平坦\", \"硬滑\", \"否\"],\n",
    "                         [\"浅白\", \"蜷缩\", \"浊响\", \"模糊\", \"平坦\", \"软粘\", \"否\"],\n",
    "                         [\"青绿\", \"稍蜷\", \"浊响\", \"稍糊\", \"凹陷\", \"硬滑\", \"否\"],\n",
    "                         [\"浅白\", \"稍蜷\", \"沉闷\", \"稍糊\", \"凹陷\", \"硬滑\", \"否\"],\n",
    "                         [\"乌黑\", \"稍蜷\", \"浊响\", \"清晰\", \"稍凹\", \"软粘\", \"否\"],\n",
    "                         [\"浅白\", \"蜷缩\", \"浊响\", \"模糊\", \"平坦\", \"硬滑\", \"否\"],\n",
    "                         [\"青绿\", \"蜷缩\", \"沉闷\", \"稍糊\", \"稍凹\", \"硬滑\", \"否\"]],\n",
    "                        columns=[\"色泽\", \"根蒂\", \"敲声\", \"纹理\", \"脐部\", \"触感\", \"好瓜\"])"
   ]
  },
  {
   "cell_type": "code",
   "execution_count": 2,
   "metadata": {},
   "outputs": [
    {
     "name": "stdout",
     "output_type": "stream",
     "text": [
      "乌黑    6\n",
      "青绿    6\n",
      "浅白    5\n",
      "Name: 色泽, dtype: int64\n"
     ]
    }
   ],
   "source": [
    "print(datasets.iloc[:, 0].value_counts())"
   ]
  },
  {
   "cell_type": "code",
   "execution_count": 3,
   "metadata": {},
   "outputs": [],
   "source": [
    "# dic = {}\n",
    "# for i in datasets[\"色泽\"].unique():\n",
    "# #     print(datasets.groupby(\"敲声\")[\"好瓜\"].value_counts()[i])\n",
    "#     if \"是\" in datasets.groupby(\"色泽\")[\"好瓜\"].value_counts()[i]:\n",
    "# #         print(datasets.groupby(\"色泽\")[\"好瓜\"].value_counts()[i][\"是\"]/datasets[\"色泽\"].value_counts()[i])\n",
    "#         dic[i] = round(datasets.groupby(\"色泽\")[\"好瓜\"].value_counts()[i][\"是\"]/datasets[\"色泽\"].value_counts()[i], 2)\n",
    "#     else:\n",
    "#         dic[i] = 0\n",
    "# print(dic)"
   ]
  },
  {
   "cell_type": "markdown",
   "metadata": {},
   "source": [
    "## P(好瓜) = P(好瓜)*P(色泽|好瓜)*P(根蒂|好瓜)*P(敲声|好瓜)*P(纹理|好瓜)*P(脐部|好瓜)*P(好瓜|好瓜)"
   ]
  },
  {
   "cell_type": "markdown",
   "metadata": {},
   "source": [
    "# P(色泽|好瓜) = P(好瓜|色泽)*P(色泽)/P(好瓜)"
   ]
  },
  {
   "cell_type": "code",
   "execution_count": 4,
   "metadata": {},
   "outputs": [
    {
     "data": {
      "text/html": [
       "<div>\n",
       "<style scoped>\n",
       "    .dataframe tbody tr th:only-of-type {\n",
       "        vertical-align: middle;\n",
       "    }\n",
       "\n",
       "    .dataframe tbody tr th {\n",
       "        vertical-align: top;\n",
       "    }\n",
       "\n",
       "    .dataframe thead th {\n",
       "        text-align: right;\n",
       "    }\n",
       "</style>\n",
       "<table border=\"1\" class=\"dataframe\">\n",
       "  <thead>\n",
       "    <tr style=\"text-align: right;\">\n",
       "      <th></th>\n",
       "      <th>色泽</th>\n",
       "      <th>根蒂</th>\n",
       "      <th>敲声</th>\n",
       "      <th>纹理</th>\n",
       "      <th>脐部</th>\n",
       "      <th>触感</th>\n",
       "      <th>好瓜</th>\n",
       "    </tr>\n",
       "  </thead>\n",
       "  <tbody>\n",
       "    <tr>\n",
       "      <th>0</th>\n",
       "      <td>青绿</td>\n",
       "      <td>蜷缩</td>\n",
       "      <td>浊响</td>\n",
       "      <td>清晰</td>\n",
       "      <td>凹陷</td>\n",
       "      <td>硬滑</td>\n",
       "      <td>是</td>\n",
       "    </tr>\n",
       "    <tr>\n",
       "      <th>1</th>\n",
       "      <td>乌黑</td>\n",
       "      <td>蜷缩</td>\n",
       "      <td>沉闷</td>\n",
       "      <td>清晰</td>\n",
       "      <td>凹陷</td>\n",
       "      <td>硬滑</td>\n",
       "      <td>是</td>\n",
       "    </tr>\n",
       "    <tr>\n",
       "      <th>2</th>\n",
       "      <td>乌黑</td>\n",
       "      <td>蜷缩</td>\n",
       "      <td>浊响</td>\n",
       "      <td>清晰</td>\n",
       "      <td>凹陷</td>\n",
       "      <td>硬滑</td>\n",
       "      <td>是</td>\n",
       "    </tr>\n",
       "    <tr>\n",
       "      <th>3</th>\n",
       "      <td>青绿</td>\n",
       "      <td>蜷缩</td>\n",
       "      <td>沉闷</td>\n",
       "      <td>清晰</td>\n",
       "      <td>凹陷</td>\n",
       "      <td>硬滑</td>\n",
       "      <td>是</td>\n",
       "    </tr>\n",
       "    <tr>\n",
       "      <th>4</th>\n",
       "      <td>浅白</td>\n",
       "      <td>蜷缩</td>\n",
       "      <td>浊响</td>\n",
       "      <td>清晰</td>\n",
       "      <td>凹陷</td>\n",
       "      <td>硬滑</td>\n",
       "      <td>是</td>\n",
       "    </tr>\n",
       "    <tr>\n",
       "      <th>5</th>\n",
       "      <td>青绿</td>\n",
       "      <td>稍蜷</td>\n",
       "      <td>浊响</td>\n",
       "      <td>清晰</td>\n",
       "      <td>稍凹</td>\n",
       "      <td>软粘</td>\n",
       "      <td>是</td>\n",
       "    </tr>\n",
       "    <tr>\n",
       "      <th>6</th>\n",
       "      <td>乌黑</td>\n",
       "      <td>稍蜷</td>\n",
       "      <td>浊响</td>\n",
       "      <td>稍糊</td>\n",
       "      <td>稍凹</td>\n",
       "      <td>软粘</td>\n",
       "      <td>是</td>\n",
       "    </tr>\n",
       "    <tr>\n",
       "      <th>7</th>\n",
       "      <td>乌黑</td>\n",
       "      <td>稍蜷</td>\n",
       "      <td>浊响</td>\n",
       "      <td>清晰</td>\n",
       "      <td>稍凹</td>\n",
       "      <td>硬滑</td>\n",
       "      <td>是</td>\n",
       "    </tr>\n",
       "  </tbody>\n",
       "</table>\n",
       "</div>"
      ],
      "text/plain": [
       "   色泽  根蒂  敲声  纹理  脐部  触感 好瓜\n",
       "0  青绿  蜷缩  浊响  清晰  凹陷  硬滑  是\n",
       "1  乌黑  蜷缩  沉闷  清晰  凹陷  硬滑  是\n",
       "2  乌黑  蜷缩  浊响  清晰  凹陷  硬滑  是\n",
       "3  青绿  蜷缩  沉闷  清晰  凹陷  硬滑  是\n",
       "4  浅白  蜷缩  浊响  清晰  凹陷  硬滑  是\n",
       "5  青绿  稍蜷  浊响  清晰  稍凹  软粘  是\n",
       "6  乌黑  稍蜷  浊响  稍糊  稍凹  软粘  是\n",
       "7  乌黑  稍蜷  浊响  清晰  稍凹  硬滑  是"
      ]
     },
     "execution_count": 4,
     "metadata": {},
     "output_type": "execute_result"
    }
   ],
   "source": [
    "datasets[datasets[\"好瓜\"] == \"是\"]"
   ]
  },
  {
   "cell_type": "code",
   "execution_count": 5,
   "metadata": {},
   "outputs": [
    {
     "name": "stdout",
     "output_type": "stream",
     "text": [
      "P(*|好瓜): {'青绿': 0.5, '乌黑': 0.6667, '浅白': 0.2, '蜷缩': 0.625, '稍蜷': 0.4286, '硬挺': 0.25, '浊响': 0.6, '沉闷': 0.4, '清脆': 0.25, '清晰': 0.7778, '稍糊': 0.2, '模糊': 0.2, '凹陷': 0.7143, '稍凹': 0.5, '平坦': 0.1667, '硬滑': 0.5, '软粘': 0.4}\n",
      "P(*): {'青绿': 0.3529, '乌黑': 0.3529, '浅白': 0.2941, '蜷缩': 0.4706, '稍蜷': 0.4118, '硬挺': 0.1176, '浊响': 0.5882, '沉闷': 0.2941, '清脆': 0.1176, '清晰': 0.5294, '稍糊': 0.2941, '模糊': 0.1765, '凹陷': 0.4118, '稍凹': 0.3529, '平坦': 0.2353, '硬滑': 0.7059, '软粘': 0.2941}\n",
      "P: 0.4706\n"
     ]
    }
   ],
   "source": [
    "good_el_dic = {}   # P(*|好瓜)\n",
    "P_dic = {}   # P(*)\n",
    "# datasets = datasets[datasets[\"好瓜\"] == [\"是\"]]\n",
    "for j in datasets.columns.to_list()[0:-1]:\n",
    "    for i in datasets[j].unique():\n",
    "        P_dic[i] = round(datasets[j].value_counts()[i]/len(datasets), 4)\n",
    "        if \"是\" in datasets.groupby(j)[\"好瓜\"].value_counts()[i]:\n",
    "            good_el_dic[i] = round(datasets.groupby(j)[\"好瓜\"].value_counts()[i][\"是\"]/datasets[j].value_counts()[i], 4)\n",
    "        else:\n",
    "            good_el_dic[i] = round(1/(datasets[j].value_counts()[i]+2), 4)\n",
    "P = round(len(datasets[datasets[\"好瓜\"] == \"是\"])/len(datasets), 4)\n",
    "print(\"P(*|好瓜):\", good_el_dic)\n",
    "print(\"P(*):\", P_dic)\n",
    "print(\"P:\", P)"
   ]
  },
  {
   "cell_type": "code",
   "execution_count": 6,
   "metadata": {},
   "outputs": [],
   "source": [
    "# P(*)\n",
    "# bad_dic = {}\n",
    "# for j in datasets.columns.to_list()[0:-1]:\n",
    "#     for i in datasets[j].unique():\n",
    "# #         print(round(datasets[j].value_counts()[i]/len(datasets), 2))\n",
    "#         bad_dic[i] = round(datasets[j].value_counts()[i]/len(datasets), 2)\n",
    "# bad_dic"
   ]
  },
  {
   "cell_type": "code",
   "execution_count": 7,
   "metadata": {},
   "outputs": [],
   "source": [
    "# # P(好瓜)\n",
    "# P = round(len(datasets[datasets[\"好瓜\"] == \"是\"])/len(datasets), 2)\n",
    "# P"
   ]
  },
  {
   "cell_type": "code",
   "execution_count": 8,
   "metadata": {},
   "outputs": [],
   "source": [
    "# test = [\"青绿\", \"稍蜷\", \"浊响\", \"稍糊\", \"凹陷\", \"硬滑\"]\n",
    "# P_good = 1\n",
    "# for i in test:\n",
    "#     P_good = P_good*good_el_dic[i]*P_dic[i]/P\n",
    "# good_return = P_good*P\n",
    "# print(good_return)\n",
    "\n",
    "# dic_fan = good_el_dic.copy()\n",
    "# for i in good_el_dic.keys():\n",
    "#     dic_fan[i] = round(1-good_el_dic[i], 2)\n",
    "    \n",
    "# P_good = 1\n",
    "# for i in test:\n",
    "#     P_good = P_good*dic_fan[i]*P_dic[i]/(1-P)\n",
    "# bad_return = P_good*(1-P)\n",
    "# print(bad_return)\n",
    "\n",
    "# if good_return>bad_return:\n",
    "#     print(\"是\")\n",
    "# else:\n",
    "#     print(\"否\")"
   ]
  },
  {
   "cell_type": "code",
   "execution_count": 9,
   "metadata": {},
   "outputs": [
    {
     "ename": "NameError",
     "evalue": "name 'dic_fan' is not defined",
     "output_type": "error",
     "traceback": [
      "\u001b[1;31m---------------------------------------------------------------------------\u001b[0m",
      "\u001b[1;31mNameError\u001b[0m                                 Traceback (most recent call last)",
      "\u001b[1;32m<ipython-input-9-1416b0bfd9e8>\u001b[0m in \u001b[0;36m<module>\u001b[1;34m\u001b[0m\n\u001b[0;32m      6\u001b[0m         \u001b[0mP_g\u001b[0m \u001b[1;33m=\u001b[0m \u001b[0mP_g\u001b[0m\u001b[1;33m*\u001b[0m\u001b[0mgood_el_dic\u001b[0m\u001b[1;33m[\u001b[0m\u001b[0mi\u001b[0m\u001b[1;33m]\u001b[0m\u001b[1;33m*\u001b[0m\u001b[0mP_dic\u001b[0m\u001b[1;33m[\u001b[0m\u001b[0mi\u001b[0m\u001b[1;33m]\u001b[0m\u001b[1;33m/\u001b[0m\u001b[0mP\u001b[0m\u001b[1;33m\u001b[0m\u001b[1;33m\u001b[0m\u001b[0m\n\u001b[0;32m      7\u001b[0m     \u001b[1;32mfor\u001b[0m \u001b[0mi\u001b[0m \u001b[1;32min\u001b[0m \u001b[0mtest\u001b[0m\u001b[1;33m:\u001b[0m\u001b[1;33m\u001b[0m\u001b[1;33m\u001b[0m\u001b[0m\n\u001b[1;32m----> 8\u001b[1;33m         \u001b[0mP_b\u001b[0m \u001b[1;33m=\u001b[0m \u001b[0mP_b\u001b[0m\u001b[1;33m*\u001b[0m\u001b[0mdic_fan\u001b[0m\u001b[1;33m[\u001b[0m\u001b[0mi\u001b[0m\u001b[1;33m]\u001b[0m\u001b[1;33m*\u001b[0m\u001b[0mP_dic\u001b[0m\u001b[1;33m[\u001b[0m\u001b[0mi\u001b[0m\u001b[1;33m]\u001b[0m\u001b[1;33m/\u001b[0m\u001b[1;33m(\u001b[0m\u001b[1;36m1\u001b[0m\u001b[1;33m-\u001b[0m\u001b[0mP\u001b[0m\u001b[1;33m)\u001b[0m\u001b[1;33m\u001b[0m\u001b[1;33m\u001b[0m\u001b[0m\n\u001b[0m\u001b[0;32m      9\u001b[0m     \u001b[1;32mif\u001b[0m \u001b[0mP_g\u001b[0m\u001b[1;33m>\u001b[0m\u001b[0mP_b\u001b[0m\u001b[1;33m:\u001b[0m\u001b[1;33m\u001b[0m\u001b[1;33m\u001b[0m\u001b[0m\n\u001b[0;32m     10\u001b[0m         \u001b[0mprint\u001b[0m\u001b[1;33m(\u001b[0m\u001b[1;34m\"好瓜\"\u001b[0m\u001b[1;33m)\u001b[0m\u001b[1;33m\u001b[0m\u001b[1;33m\u001b[0m\u001b[0m\n",
      "\u001b[1;31mNameError\u001b[0m: name 'dic_fan' is not defined"
     ]
    }
   ],
   "source": [
    "for i in range(0, len(datasets)):\n",
    "    test = datasets.iloc[i, 0:-1].to_list()\n",
    "    P_g = P\n",
    "    P_b = (1-P)\n",
    "    for i in test:\n",
    "        P_g = P_g*good_el_dic[i]*P_dic[i]/P\n",
    "    for i in test:\n",
    "        P_b = P_b*dic_fan[i]*P_dic[i]/(1-P)\n",
    "    if P_g>P_b:\n",
    "        print(\"好瓜\")\n",
    "    else:\n",
    "        print(\"坏瓜\")"
   ]
  },
  {
   "cell_type": "code",
   "execution_count": null,
   "metadata": {},
   "outputs": [],
   "source": []
  },
  {
   "cell_type": "code",
   "execution_count": null,
   "metadata": {},
   "outputs": [],
   "source": []
  },
  {
   "cell_type": "code",
   "execution_count": null,
   "metadata": {},
   "outputs": [],
   "source": []
  }
 ],
 "metadata": {
  "kernelspec": {
   "display_name": "Python 3",
   "language": "python",
   "name": "python3"
  },
  "language_info": {
   "codemirror_mode": {
    "name": "ipython",
    "version": 3
   },
   "file_extension": ".py",
   "mimetype": "text/x-python",
   "name": "python",
   "nbconvert_exporter": "python",
   "pygments_lexer": "ipython3",
   "version": "3.8.5"
  }
 },
 "nbformat": 4,
 "nbformat_minor": 4
}
