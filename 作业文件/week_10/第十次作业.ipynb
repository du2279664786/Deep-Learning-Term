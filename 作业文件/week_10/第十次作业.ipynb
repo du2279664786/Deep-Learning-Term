{
 "cells": [
  {
   "cell_type": "code",
   "execution_count": 1,
   "metadata": {},
   "outputs": [
    {
     "name": "stdout",
     "output_type": "stream",
     "text": [
      "我是：杜培博，学号：200507340136，这是我的第 9 次作业。\n",
      "现在是 2021-11-14 20:25:45.237300\n",
      "我的机器信息如下：\n",
      "uname_result(system='Windows', node='LAPTOP-5PHEQ8I3', release='10', version='10.0.18362', machine='AMD64', processor='AMD64 Family 23 Model 24 Stepping 1, AuthenticAMD')\n",
      "\n",
      "当前工作目录：\n",
      "E:\\jupyter\\curriculum_code\\da_tow\\week_10\n",
      "\n",
      "当前目录的文件信息如下：\n",
      "['.ipynb_checkpoints', 'god_view.ipynb', '第十次作业.ipynb']\n",
      "\n",
      "我安装包的情况:\n",
      "Package                            Version"
     ]
    },
    {
     "name": "stderr",
     "output_type": "stream",
     "text": [
      "WARNING: Ignoring invalid distribution -ython (c:\\programdata\\anaconda3\\lib\\site-packages)\n",
      "WARNING: Ignoring invalid distribution -ndas (c:\\programdata\\anaconda3\\lib\\site-packages)\n",
      "WARNING: Ignoring invalid distribution -ikit-learn (c:\\programdata\\anaconda3\\lib\\site-packages)\n",
      "WARNING: Ignoring invalid distribution -ython (c:\\programdata\\anaconda3\\lib\\site-packages)\n",
      "WARNING: Ignoring invalid distribution -python (c:\\programdata\\anaconda3\\lib\\site-packages)\n",
      "WARNING: Ignoring invalid distribution -ndas (c:\\programdata\\anaconda3\\lib\\site-packages)\n",
      "WARNING: Ignoring invalid distribution -ikit-learn (c:\\programdata\\anaconda3\\lib\\site-packages)\n",
      "WARNING: Ignoring invalid distribution - (c:\\programdata\\anaconda3\\lib\\site-packages)\n",
      "WARNING: Ignoring invalid distribution -cikit-learn (c:\\programdata\\anaconda3\\lib\\site-packages)\n",
      "WARNING: Ignoring invalid distribution -andas (c:\\programdata\\anaconda3\\lib\\site-packages)\n",
      "WARNING: Ignoring invalid distribution -ython (c:\\programdata\\anaconda3\\lib\\site-packages)\n",
      "WARNING: Ignoring invalid distribution -ndas (c:\\programdata\\anaconda3\\lib\\site-packages)\n",
      "WARNING: Ignoring invalid distribution -ikit-learn (c:\\programdata\\anaconda3\\lib\\site-packages)\n",
      "WARNING: Ignoring invalid distribution -ython (c:\\programdata\\anaconda3\\lib\\site-packages)\n",
      "WARNING: Ignoring invalid distribution -python (c:\\programdata\\anaconda3\\lib\\site-packages)\n",
      "WARNING: Ignoring invalid distribution -ndas (c:\\programdata\\anaconda3\\lib\\site-packages)\n",
      "WARNING: Ignoring invalid distribution -ikit-learn (c:\\programdata\\anaconda3\\lib\\site-packages)\n",
      "WARNING: Ignoring invalid distribution - (c:\\programdata\\anaconda3\\lib\\site-packages)\n",
      "WARNING: Ignoring invalid distribution -cikit-learn (c:\\programdata\\anaconda3\\lib\\site-packages)\n",
      "WARNING: Ignoring invalid distribution -andas (c:\\programdata\\anaconda3\\lib\\site-packages)\n",
      "WARNING: You are using pip version 21.1.3; however, version 21.3.1 is available.\n",
      "You should consider upgrading via the 'C:\\ProgramData\\Anaconda3\\python.exe -m pip install --upgrade pip' command.\n"
     ]
    },
    {
     "name": "stdout",
     "output_type": "stream",
     "text": [
      "\n",
      "---------------------------------- -------------------\n",
      "alabaster                          0.7.12\n",
      "anaconda-client                    1.7.2\n",
      "anaconda-navigator                 1.10.0\n",
      "anaconda-project                   0.8.3\n",
      "appdirs                            1.4.4\n",
      "argh                               0.26.2\n",
      "argon2-cffi                        20.1.0\n",
      "asn1crypto                         1.4.0\n",
      "astroid                            2.4.2\n",
      "astropy                            4.0.2\n",
      "async-generator                    1.10\n",
      "atomicwrites                       1.4.0\n",
      "attrs                              20.3.0\n",
      "audioread                          2.1.9\n",
      "autopep8                           1.5.4\n",
      "Babel                              2.8.1\n",
      "backcall                           0.2.0\n",
      "backports.functools-lru-cache      1.6.1\n",
      "backports.shutil-get-terminal-size 1.0.0\n",
      "backports.tempfile                 1.0\n",
      "backports.weakref                  1.0.post1\n",
      "baidu-aip                          2.2.18.0\n",
      "bcrypt                             3.2.0\n",
      "beautifulsoup4                     4.9.3\n",
      "bitarray                           1.6.1\n",
      "bkcharts                           0.2\n",
      "bleach                             3.2.1\n",
      "bokeh                              2.2.3\n",
      "boto                               2.49.0\n",
      "Bottleneck                         1.3.2\n",
      "brotlipy                           0.7.0\n",
      "catboost                           0.24.4\n",
      "certifi                            2020.6.20\n",
      "cffi                               1.14.3\n",
      "chardet                            3.0.4\n",
      "click                              7.1.2\n",
      "cloudpickle                        1.6.0\n",
      "clyent                             1.2.2\n",
      "colorama                           0.4.4\n",
      "comtypes                           1.1.7\n",
      "conda                              4.10.1\n",
      "conda-build                        3.20.5\n",
      "conda-package-handling             1.7.2\n",
      "conda-verify                       3.4.2\n",
      "contextlib2                        0.6.0.post1\n",
      "cryptography                       3.1.1\n",
      "cycler                             0.10.0\n",
      "Cython                             0.29.14\n",
      "cytoolz                            0.11.0\n",
      "dask                               2.30.0\n",
      "dataframe                          0.2.1.3\n",
      "DateTime                           4.3\n",
      "decorator                          4.4.2\n",
      "defusedxml                         0.6.0\n",
      "diff-match-patch                   20200713\n",
      "distributed                        2.30.1\n",
      "docutils                           0.16\n",
      "dukpy                              0.2.3\n",
      "entrypoints                        0.3\n",
      "et-xmlfile                         1.0.1\n",
      "fastcache                          1.1.0\n",
      "filelock                           3.0.12\n",
      "flake8                             3.8.4\n",
      "Flask                              1.1.2\n",
      "fsspec                             0.8.3\n",
      "future                             0.18.2\n",
      "gensim                             3.8.3\n",
      "gevent                             20.9.0\n",
      "glob2                              0.7\n",
      "graphviz                           0.16\n",
      "greenlet                           0.4.17\n",
      "h5py                               2.10.0\n",
      "HeapDict                           1.0.1\n",
      "html5lib                           1.1\n",
      "idna                               2.10\n",
      "imageio                            2.9.0\n",
      "imagesize                          1.2.0\n",
      "importlib-metadata                 2.0.0\n",
      "iniconfig                          1.1.1\n",
      "intervaltree                       3.1.0\n",
      "ipykernel                          5.3.4\n",
      "ipython                            7.19.0\n",
      "ipython-genutils                   0.2.0\n",
      "ipywidgets                         7.5.1\n",
      "isort                              5.6.4\n",
      "itsdangerous                       1.1.0\n",
      "javascripthon                      0.11\n",
      "jdcal                              1.4.1\n",
      "jedi                               0.17.1\n",
      "jieba                              0.42.1\n",
      "Jinja2                             2.11.2\n",
      "joblib                             0.17.0\n",
      "json5                              0.9.5\n",
      "jsonschema                         3.2.0\n",
      "jupyter                            1.0.0\n",
      "jupyter-client                     6.1.7\n",
      "jupyter-console                    6.2.0\n",
      "jupyter-contrib-core               0.3.3\n",
      "jupyter-contrib-nbextensions       0.5.1\n",
      "jupyter-core                       4.6.3\n",
      "jupyter-echarts-pypkg              0.1.1\n",
      "jupyter-highlight-selected-word    0.2.0\n",
      "jupyter-latex-envs                 1.4.6\n",
      "jupyter-nbextensions-configurator  0.4.1\n",
      "jupyter-pip                        0.3.1\n",
      "jupyterlab                         2.2.6\n",
      "jupyterlab-pygments                0.1.2\n",
      "jupyterlab-server                  1.2.0\n",
      "kdtree                             0.16\n",
      "keyring                            21.4.0\n",
      "kiwisolver                         1.3.0\n",
      "lazy-object-proxy                  1.4.3\n",
      "lesson                             0.0.1\n",
      "libarchive-c                       2.9\n",
      "librosa                            0.8.1\n",
      "lightgbm                           3.1.1\n",
      "llvmlite                           0.34.0\n",
      "lml                                0.0.2\n",
      "locket                             0.2.0\n",
      "lxml                               4.6.1\n",
      "macropy3                           1.1.0b2\n",
      "MarkupSafe                         1.1.1\n",
      "matplotlib                         3.3.2\n",
      "mccabe                             0.6.1\n",
      "menuinst                           1.4.16\n",
      "mistune                            0.8.4\n",
      "mkl-fft                            1.2.0\n",
      "mkl-random                         1.1.1\n",
      "mkl-service                        2.3.0\n",
      "mock                               4.0.2\n",
      "more-itertools                     8.6.0\n",
      "mpmath                             1.1.0\n",
      "msgpack                            1.0.0\n",
      "multipledispatch                   0.6.0\n",
      "mysql                              0.0.2\n",
      "mysqlclient                        2.0.3\n",
      "navigator-updater                  0.2.1\n",
      "nbclient                           0.5.1\n",
      "nbconvert                          6.0.7\n",
      "nbformat                           5.0.8\n",
      "nest-asyncio                       1.4.2\n",
      "networkx                           2.5\n",
      "nltk                               3.5\n",
      "nose                               1.3.7\n",
      "notebook                           6.1.4\n",
      "numba                              0.51.2\n",
      "numexpr                            2.7.1\n",
      "numpy                              1.19.2\n",
      "numpydoc                           1.1.0\n",
      "olefile                            0.46\n",
      "opencv-python                      4.5.1.48\n",
      "openpyxl                           3.0.5\n",
      "packaging                          20.4\n",
      "pandas                             1.2.3\n",
      "pandocfilters                      1.4.3\n",
      "paramiko                           2.7.2\n",
      "parso                              0.7.0\n",
      "partd                              1.1.0\n",
      "path                               15.0.0\n",
      "pathlib2                           2.3.5\n",
      "pathtools                          0.1.2\n",
      "patsy                              0.5.1\n",
      "pep8                               1.7.1\n",
      "pexpect                            4.8.0\n",
      "pickleshare                        0.7.5\n",
      "Pillow                             8.0.1\n",
      "pip                                21.1.3\n",
      "pkginfo                            1.6.1\n",
      "plotly                             4.14.3\n",
      "pluggy                             0.13.1\n",
      "ply                                3.11\n",
      "pooch                              1.4.0\n",
      "prettytable                        2.0.0\n",
      "prometheus-client                  0.8.0\n",
      "prompt-toolkit                     3.0.8\n",
      "psutil                             5.7.2\n",
      "py                                 1.9.0\n",
      "PyAudio                            0.2.11\n",
      "pycodestyle                        2.6.0\n",
      "pycosat                            0.6.3\n",
      "pycparser                          2.20\n",
      "pycurl                             7.43.0.6\n",
      "pydocstyle                         5.1.1\n",
      "pyecharts                          0.1.9.5\n",
      "pyflakes                           2.2.0\n",
      "Pygments                           2.7.2\n",
      "pylint                             2.6.0\n",
      "PyMySQL                            1.0.2\n",
      "PyNaCl                             1.4.0\n",
      "pyodbc                             4.0.0-unsupported\n",
      "pyOpenSSL                          19.1.0\n",
      "pyparsing                          2.4.7\n",
      "pypiwin32                          223\n",
      "pyreadline                         2.1\n",
      "pyrsistent                         0.17.3\n",
      "PySocks                            1.7.1\n",
      "pytest                             6.2.3\n",
      "python-dateutil                    2.8.1\n",
      "python-jsonrpc-server              0.4.0\n",
      "python-language-server             0.35.1\n",
      "pyttsx3                            2.90\n",
      "pytz                               2020.1\n",
      "PyWavelets                         1.1.1\n",
      "pywin32                            227\n",
      "pywin32-ctypes                     0.2.0\n",
      "pywinpty                           0.5.7\n",
      "PyYAML                             5.3.1\n",
      "pyzmq                              19.0.2\n",
      "QDarkStyle                         2.8.1\n",
      "QtAwesome                          1.0.1\n",
      "qtconsole                          4.7.7\n",
      "QtPy                               1.9.0\n",
      "regex                              2020.10.15\n",
      "requests                           2.24.0\n",
      "resampy                            0.2.2\n",
      "retrying                           1.3.3\n",
      "rope                               0.18.0\n",
      "Rtree                              0.9.4\n",
      "ruamel-yaml                        0.15.87\n",
      "schedule                           0.6.0\n",
      "scikit-image                       0.17.2\n",
      "scikit-learn                       0.23.2\n",
      "scipy                              1.5.2\n",
      "seaborn                            0.11.0\n",
      "selenium                           3.141.0\n",
      "Send2Trash                         1.5.0\n",
      "setuptools                         50.3.1.post20201107\n",
      "simplegeneric                      0.8.1\n",
      "simplejson                         3.17.2\n",
      "singledispatch                     3.4.0.3\n",
      "sip                                4.19.13\n",
      "six                                1.15.0\n",
      "sklearn                            0.0\n",
      "smart-open                         4.2.0\n",
      "snowballstemmer                    2.0.0\n",
      "sortedcollections                  1.2.1\n",
      "sortedcontainers                   2.2.2\n",
      "SoundFile                          0.10.3.post1\n",
      "soupsieve                          2.0.1\n",
      "Sphinx                             3.2.1\n",
      "sphinxcontrib-applehelp            1.0.2\n",
      "sphinxcontrib-devhelp              1.0.2\n",
      "sphinxcontrib-htmlhelp             1.0.3\n",
      "sphinxcontrib-jsmath               1.0.1\n",
      "sphinxcontrib-qthelp               1.0.3\n",
      "sphinxcontrib-serializinghtml      1.1.4\n",
      "sphinxcontrib-websupport           1.2.4\n",
      "spyder                             4.1.5\n",
      "spyder-kernels                     1.9.4\n",
      "SQLAlchemy                         1.3.20\n",
      "statsmodels                        0.12.0\n",
      "sympy                              1.6.2\n",
      "tables                             3.6.1\n",
      "tabulate                           0.8.9\n",
      "tblib                              1.7.0\n",
      "terminado                          0.9.1\n",
      "testpath                           0.4.4\n",
      "threadpoolctl                      2.1.0\n",
      "tifffile                           2020.10.1\n",
      "toml                               0.10.1\n",
      "toolz                              0.11.1\n",
      "tornado                            6.0.4\n",
      "tqdm                               4.50.2\n",
      "traitlets                          5.0.5\n",
      "typing-extensions                  3.7.4.3\n",
      "ujson                              4.0.1\n",
      "unicodecsv                         0.14.1\n",
      "urllib3                            1.25.11\n",
      "watchdog                           0.10.3\n",
      "wcwidth                            0.2.5\n",
      "webencodings                       0.5.1\n",
      "Werkzeug                           1.0.1\n",
      "wheel                              0.35.1\n",
      "widgetsnbextension                 3.5.1\n",
      "win-inet-pton                      1.1.0\n",
      "win-unicode-console                0.5\n",
      "wincertstore                       0.2\n",
      "wordcloud                          1.8.1\n",
      "wrapt                              1.11.2\n",
      "xgboost                            1.3.3\n",
      "xlrd                               1.2.0\n",
      "XlsxWriter                         1.3.7\n",
      "xlwings                            0.20.8\n",
      "xlwt                               1.3.0\n",
      "xmltodict                          0.12.0\n",
      "yapf                               0.30.0\n",
      "zict                               2.0.0\n",
      "zipp                               3.4.0\n",
      "zope.event                         4.5.0\n",
      "zope.interface                     5.1.2\n"
     ]
    }
   ],
   "source": [
    "import platform\n",
    "import datetime\n",
    "import sys\n",
    "import os\n",
    "\n",
    "\n",
    "your_name, your_code, work_counter = \"杜培博\", 200507340136, 9\n",
    "print(f'我是：{your_name}，学号：{your_code}，这是我的第 {work_counter} 次作业。')\n",
    "print('现在是', datetime.datetime.now())\n",
    "print('我的机器信息如下：')\n",
    "print(platform.uname())\n",
    "\n",
    "print('\\n当前工作目录：')\n",
    "print(os.getcwd())\n",
    "print('\\n当前目录的文件信息如下：')\n",
    "print(os.listdir())\n",
    "print('\\n我安装包的情况:')\n",
    "!pip list"
   ]
  },
  {
   "cell_type": "markdown",
   "metadata": {},
   "source": [
    "# 1 朴素贝叶斯实现"
   ]
  },
  {
   "cell_type": "markdown",
   "metadata": {},
   "source": [
    "## 训练函数"
   ]
  },
  {
   "cell_type": "code",
   "execution_count": 2,
   "metadata": {},
   "outputs": [],
   "source": [
    "import pandas as pd\n",
    "from sklearn.metrics import precision_score, recall_score, f1_score\n",
    "from sklearn.preprocessing import LabelEncoder"
   ]
  },
  {
   "cell_type": "markdown",
   "metadata": {},
   "source": [
    "## 封装BayesLaplace"
   ]
  },
  {
   "cell_type": "code",
   "execution_count": 3,
   "metadata": {},
   "outputs": [],
   "source": [
    "class BayesLaplace:\n",
    "    def fit(datasets):\n",
    "        good_el_dic = {}  # P(*|好瓜)\n",
    "        for j in datasets.columns.to_list()[0:-1]:\n",
    "            for i in datasets[j].unique():\n",
    "                if \"是\" in datasets.groupby(j)[\"好瓜\"].value_counts()[i]:\n",
    "                    good_el_dic[i] = round((datasets.groupby(j)[\"好瓜\"].value_counts()[i][\"是\"] + 1) / (\n",
    "                            len(datasets[datasets[\"好瓜\"] == \"是\"]) + len(datasets[j].unique())), 3)  # 拉普拉斯\n",
    "                else:\n",
    "                    good_el_dic[i] = round(1 / (len(datasets[datasets[\"好瓜\"] == \"是\"]) + len(datasets[j].unique())),\n",
    "                                           3)  # 拉普拉斯\n",
    "        P_good = round((len(datasets[datasets[\"好瓜\"] == \"是\"]) + 1) / (len(datasets) + 2), 2)\n",
    "\n",
    "        bad_el_dic = {}  # P(*|坏瓜)\n",
    "        for j in datasets.columns.to_list()[0:-1]:\n",
    "            for i in datasets[j].unique():\n",
    "                if \"否\" in datasets.groupby(j)[\"好瓜\"].value_counts()[i]:\n",
    "                    #                 bad_el_dic[i] = round((datasets.groupby(j)[\"好瓜\"].value_counts()[i][\"否\"]+1)/(datasets[j].value_counts()[i]+len(datasets[j].unique())), 2)    # 平滑\n",
    "                    bad_el_dic[i] = round((datasets.groupby(j)[\"好瓜\"].value_counts()[i][\"否\"] + 1) / (\n",
    "                            len(datasets[datasets[\"好瓜\"] == \"否\"]) + len(datasets[j].unique())), 3)\n",
    "                else:\n",
    "                    #                 P_bad[i] = round(1/(datasets[j].value_counts()[i]+len(datasets[j].unique())), 2)      # 平滑\n",
    "                    bad_el_dic[i] = round(1 / (len(datasets[datasets[\"好瓜\"] == \"否\"]) + len(datasets[j].unique())),\n",
    "                                          3)  # 平滑\n",
    "        P_bad = round((len(datasets[datasets[\"好瓜\"] == \"否\"]) + 1) / (len(datasets) + 2), 3)\n",
    "        return good_el_dic, P_good, bad_el_dic, P_bad\n",
    "\n",
    "    def predict(datasets):\n",
    "        y_pre = []\n",
    "        for i in range(0, len(datasets)):\n",
    "            test = datasets.iloc[i, :-1].to_list()\n",
    "            P_g = P_good\n",
    "            P_b = P_bad\n",
    "            for i in test:\n",
    "                P_g = P_g * good_el_dic[i]\n",
    "            for i in test:\n",
    "                P_b = P_b * bad_el_dic[i]\n",
    "            if P_g > P_b:\n",
    "                y_pre.append(\"是\")\n",
    "            else:\n",
    "                y_pre.append(\"否\")\n",
    "        return pd.Series(y_pre)"
   ]
  },
  {
   "cell_type": "markdown",
   "metadata": {},
   "source": [
    "## 导入数据"
   ]
  },
  {
   "cell_type": "code",
   "execution_count": 4,
   "metadata": {},
   "outputs": [],
   "source": [
    "datasets = pd.DataFrame([[\"青绿\", \"蜷缩\", \"浊响\", \"清晰\", \"凹陷\", \"硬滑\", \"是\"],\n",
    "                         [\"乌黑\", \"蜷缩\", \"沉闷\", \"清晰\", \"凹陷\", \"硬滑\", \"是\"],\n",
    "                         [\"乌黑\", \"蜷缩\", \"浊响\", \"清晰\", \"凹陷\", \"硬滑\", \"是\"],\n",
    "                         [\"青绿\", \"蜷缩\", \"沉闷\", \"清晰\", \"凹陷\", \"硬滑\", \"是\"],\n",
    "                         [\"浅白\", \"蜷缩\", \"浊响\", \"清晰\", \"凹陷\", \"硬滑\", \"是\"],\n",
    "                         [\"青绿\", \"稍蜷\", \"浊响\", \"清晰\", \"稍凹\", \"软粘\", \"是\"],\n",
    "                         [\"乌黑\", \"稍蜷\", \"浊响\", \"稍糊\", \"稍凹\", \"软粘\", \"是\"],\n",
    "                         [\"乌黑\", \"稍蜷\", \"浊响\", \"清晰\", \"稍凹\", \"硬滑\", \"是\"],\n",
    "                         [\"乌黑\", \"稍蜷\", \"沉闷\", \"稍糊\", \"稍凹\", \"硬滑\", \"否\"],\n",
    "                         [\"青绿\", \"硬挺\", \"清脆\", \"清晰\", \"平坦\", \"软粘\", \"否\"],\n",
    "                         [\"浅白\", \"硬挺\", \"清脆\", \"模糊\", \"平坦\", \"硬滑\", \"否\"],\n",
    "                         [\"浅白\", \"蜷缩\", \"浊响\", \"模糊\", \"平坦\", \"软粘\", \"否\"],\n",
    "                         [\"青绿\", \"稍蜷\", \"浊响\", \"稍糊\", \"凹陷\", \"硬滑\", \"否\"],\n",
    "                         [\"浅白\", \"稍蜷\", \"沉闷\", \"稍糊\", \"凹陷\", \"硬滑\", \"否\"],\n",
    "                         [\"乌黑\", \"稍蜷\", \"浊响\", \"清晰\", \"稍凹\", \"软粘\", \"否\"],\n",
    "                         [\"浅白\", \"蜷缩\", \"浊响\", \"模糊\", \"平坦\", \"硬滑\", \"否\"],\n",
    "                         [\"青绿\", \"蜷缩\", \"沉闷\", \"稍糊\", \"稍凹\", \"硬滑\", \"否\"]],\n",
    "                        columns=[\"色泽\", \"根蒂\", \"敲声\", \"纹理\", \"脐部\", \"触感\", \"好瓜\"])"
   ]
  },
  {
   "cell_type": "markdown",
   "metadata": {},
   "source": [
    "## 实例化一个估计器，训练模型"
   ]
  },
  {
   "cell_type": "code",
   "execution_count": 5,
   "metadata": {},
   "outputs": [],
   "source": [
    "a = BayesLaplace\n",
    "good_el_dic, P_good, bad_el_dic, P_bad = a.fit(datasets)"
   ]
  },
  {
   "cell_type": "markdown",
   "metadata": {},
   "source": [
    "## 模型预测"
   ]
  },
  {
   "cell_type": "code",
   "execution_count": 6,
   "metadata": {},
   "outputs": [
    {
     "name": "stdout",
     "output_type": "stream",
     "text": [
      "预测值时是：\n",
      " 0     是\n",
      "1     是\n",
      "2     是\n",
      "3     是\n",
      "4     是\n",
      "5     是\n",
      "6     否\n",
      "7     是\n",
      "8     否\n",
      "9     否\n",
      "10    否\n",
      "11    否\n",
      "12    是\n",
      "13    否\n",
      "14    是\n",
      "15    否\n",
      "16    否\n",
      "dtype: object\n"
     ]
    }
   ],
   "source": [
    "y_pre = a.predict(datasets)\n",
    "print(\"预测值时是：\\n\", y_pre)"
   ]
  },
  {
   "cell_type": "markdown",
   "metadata": {},
   "source": [
    "## 准确率"
   ]
  },
  {
   "cell_type": "code",
   "execution_count": 7,
   "metadata": {},
   "outputs": [
    {
     "name": "stdout",
     "output_type": "stream",
     "text": [
      "准确率为： 0.824\n"
     ]
    }
   ],
   "source": [
    "y_test = datasets[\"好瓜\"]\n",
    "acc = round(len(y_pre[y_test==pd.Series(y_pre)])/len(datasets), 3)\n",
    "print(\"准确率为：\", acc)"
   ]
  },
  {
   "cell_type": "markdown",
   "metadata": {},
   "source": [
    "## 查准率"
   ]
  },
  {
   "cell_type": "code",
   "execution_count": 8,
   "metadata": {},
   "outputs": [
    {
     "name": "stdout",
     "output_type": "stream",
     "text": [
      "查准率： 0.7777777777777778\n"
     ]
    }
   ],
   "source": [
    "lb = LabelEncoder()\n",
    "y_test = lb.fit_transform(y_test)\n",
    "y_pre = lb.fit_transform(y_pre)\n",
    "temp = 0\n",
    "for i, j in zip(y_test, y_pre):\n",
    "    if (i == j) & (i == 1):\n",
    "        temp += 1\n",
    "precision = temp / len(y_pre[y_pre == 1])\n",
    "print(\"查准率：\", precision)"
   ]
  },
  {
   "cell_type": "markdown",
   "metadata": {},
   "source": [
    "## 查全率"
   ]
  },
  {
   "cell_type": "code",
   "execution_count": 9,
   "metadata": {},
   "outputs": [
    {
     "name": "stdout",
     "output_type": "stream",
     "text": [
      "查全率 0.875\n"
     ]
    }
   ],
   "source": [
    "recall = temp/len(y_test[y_test == 1])\n",
    "print(\"查全率\", recall)"
   ]
  },
  {
   "cell_type": "markdown",
   "metadata": {},
   "source": [
    "## F1_score"
   ]
  },
  {
   "cell_type": "code",
   "execution_count": 10,
   "metadata": {},
   "outputs": [
    {
     "name": "stdout",
     "output_type": "stream",
     "text": [
      "f1 0.823529411764706\n"
     ]
    }
   ],
   "source": [
    "f1 = 2*recall*precision/(recall+precision)\n",
    "print(\"f1\", f1_score(y_test, y_pre))"
   ]
  },
  {
   "cell_type": "markdown",
   "metadata": {},
   "source": [
    "# 朴素贝叶斯掉包"
   ]
  },
  {
   "cell_type": "code",
   "execution_count": 11,
   "metadata": {},
   "outputs": [
    {
     "name": "stdout",
     "output_type": "stream",
     "text": [
      "预测结果：\n",
      " [ True False False  True  True False  True False False False  True  True\n",
      "  True False  True False  True False False  True  True False False  True\n",
      "  True False  True  True  True  True]\n"
     ]
    }
   ],
   "source": [
    "from sklearn import datasets\n",
    "from sklearn.model_selection import train_test_split\n",
    "from sklearn.naive_bayes import MultinomialNB, GaussianNB\n",
    "\n",
    "iris = datasets.load_iris()\n",
    "train = iris.data[:, 1:3]\n",
    "test = iris.target\n",
    "\n",
    "x_train, x_test, y_train, y_test = train_test_split(train, test, test_size=0.2, random_state=1113)\n",
    "\n",
    "estimator = MultinomialNB()\n",
    "estimator.fit(x_train, y_train)\n",
    "y_p = estimator.predict(x_test)\n",
    "print(\"预测结果：\\n\", y_p == y_test)"
   ]
  },
  {
   "cell_type": "markdown",
   "metadata": {},
   "source": [
    "# 机器学习三要素"
   ]
  },
  {
   "cell_type": "markdown",
   "metadata": {},
   "source": [
    "# Y = F(X)"
   ]
  },
  {
   "cell_type": "markdown",
   "metadata": {},
   "source": [
    "## 数据：特征值，就是X"
   ]
  },
  {
   "cell_type": "markdown",
   "metadata": {},
   "source": [
    "## 模型：函数，就是F()"
   ]
  },
  {
   "cell_type": "markdown",
   "metadata": {},
   "source": [
    "## 标签：目标值,就是Y"
   ]
  },
  {
   "cell_type": "markdown",
   "metadata": {},
   "source": [
    "# 4 生成式模型和判别式模型"
   ]
  },
  {
   "cell_type": "markdown",
   "metadata": {},
   "source": [
    "## 生成式模型：生成式模型学习了每个类别的边界，它包含了更多信息，可以用来生成样本,生成式模型是有多少个特征就建多少个模，再去计算P(y|x) = P(x,y)/P(x)"
   ]
  },
  {
   "cell_type": "markdown",
   "metadata": {},
   "source": [
    "## 判别式模型：判别式模型是在寻找一个决策边界，通过该边界来将样本划分到对应类别， 判别式模型是对条件概率建模，直接计算P(y|x)"
   ]
  },
  {
   "cell_type": "markdown",
   "metadata": {},
   "source": [
    "# 5 过拟合：过拟合就是学习到的特征太多或学到了一些没用的特征，例如：对树叶的预测，当数据量较少时，学到了“树叶边缘是锋利的”这个特征，当去预测一个边缘不锋利的树叶的时候，就会判断出它不是树叶"
   ]
  },
  {
   "cell_type": "code",
   "execution_count": null,
   "metadata": {},
   "outputs": [],
   "source": []
  }
 ],
 "metadata": {
  "kernelspec": {
   "display_name": "Python 3",
   "language": "python",
   "name": "python3"
  },
  "language_info": {
   "codemirror_mode": {
    "name": "ipython",
    "version": 3
   },
   "file_extension": ".py",
   "mimetype": "text/x-python",
   "name": "python",
   "nbconvert_exporter": "python",
   "pygments_lexer": "ipython3",
   "version": "3.8.5"
  }
 },
 "nbformat": 4,
 "nbformat_minor": 4
}
