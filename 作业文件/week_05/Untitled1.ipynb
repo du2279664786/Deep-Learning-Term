{
 "cells": [
  {
   "cell_type": "code",
   "execution_count": 1,
   "metadata": {},
   "outputs": [],
   "source": [
    "import numpy as np"
   ]
  },
  {
   "cell_type": "code",
   "execution_count": 2,
   "metadata": {},
   "outputs": [],
   "source": [
    "# 首先初始化函数\n",
    "def f(x):\n",
    "    return x ** 2 + 10 * np.sin(x)"
   ]
  },
  {
   "cell_type": "code",
   "execution_count": 3,
   "metadata": {},
   "outputs": [],
   "source": [
    "# 然后初始化梯度函数\n",
    "def df(x):\n",
    "    return 2 * x + 10 * np.cos(x)"
   ]
  },
  {
   "cell_type": "code",
   "execution_count": 4,
   "metadata": {},
   "outputs": [],
   "source": [
    "# 定义一个阈值\n",
    "value = 10e-8"
   ]
  },
  {
   "cell_type": "code",
   "execution_count": 5,
   "metadata": {},
   "outputs": [],
   "source": [
    "# 初始化起始点\n",
    "k = 2"
   ]
  },
  {
   "cell_type": "code",
   "execution_count": 6,
   "metadata": {},
   "outputs": [],
   "source": [
    "# grad = -df(k)\n",
    "# res = np.linspace(0, 12, 20000)\n",
    "# res[np.argmin(f(k+grad * res))]"
   ]
  },
  {
   "cell_type": "code",
   "execution_count": 8,
   "metadata": {},
   "outputs": [
    {
     "name": "stdout",
     "output_type": "stream",
     "text": [
      "3.8372478835739448\n"
     ]
    }
   ],
   "source": [
    "while True:\n",
    "    grad = df(k)\n",
    "#     print(grad)\n",
    "    if np.abs(df(k)) < value:\n",
    "        x_mark = k\n",
    "        break\n",
    "    else:\n",
    "        # 找出最合适的学习率\n",
    "        Lambda = np.linspace(0, 0.02, 10000)\n",
    "        tem = k-Lambda * grad\n",
    "        base_Lambda = Lambda[np.argmin(f(tem))]\n",
    "#         print(\"最佳的学习率为\", Lambda[np.argmin(f(tem))])\n",
    "    if np.abs(k - (k-base_Lambda * grad)) < value or np.abs(f(k) - f(k-base_Lambda * grad)) < value:\n",
    "        x_mark = k-base_Lambda * grad\n",
    "        # print(\"在下面停止\")\n",
    "        break\n",
    "    k = k-base_Lambda * grad\n",
    "    # print(k)\n",
    "print(x_mark)"
   ]
  },
  {
   "cell_type": "code",
   "execution_count": 26,
   "metadata": {},
   "outputs": [],
   "source": [
    "# res = np.linspace(0, 0.2, 20000)\n",
    "# res"
   ]
  },
  {
   "cell_type": "code",
   "execution_count": null,
   "metadata": {},
   "outputs": [],
   "source": []
  }
 ],
 "metadata": {
  "kernelspec": {
   "display_name": "Python 3 (ipykernel)",
   "language": "python",
   "name": "python3"
  },
  "language_info": {
   "codemirror_mode": {
    "name": "ipython",
    "version": 3
   },
   "file_extension": ".py",
   "mimetype": "text/x-python",
   "name": "python",
   "nbconvert_exporter": "python",
   "pygments_lexer": "ipython3",
   "version": "3.8.12"
  }
 },
 "nbformat": 4,
 "nbformat_minor": 4
}
