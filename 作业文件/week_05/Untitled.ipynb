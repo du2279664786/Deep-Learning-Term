{
 "cells": [
  {
   "cell_type": "code",
   "execution_count": 1,
   "metadata": {},
   "outputs": [
    {
     "name": "stdout",
     "output_type": "stream",
     "text": [
      "我是：杜培博，学号：200507340136，这是我的第 5 次作业。\n",
      "现在是 2021-10-10 20:23:17.684438\n",
      "我的机器信息如下：\n",
      "uname_result(system='Windows', node='LAPTOP-5PHEQ8I3', release='10', version='10.0.18362', machine='AMD64', processor='AMD64 Family 23 Model 24 Stepping 1, AuthenticAMD')\n",
      "\n",
      "当前工作目录：\n",
      "E:\\jupyter\\curriculum_code\\da_tow\\week_05\n",
      "\n",
      "当前目录的文件信息如下：\n",
      "['.ipynb_checkpoints', 'Untitled.ipynb', 'Untitled1.ipynb']\n",
      "\n",
      "我安装包的情况:\n",
      "Package                            Version"
     ]
    },
    {
     "name": "stderr",
     "output_type": "stream",
     "text": [
      "WARNING: Ignoring invalid distribution -ython (c:\\programdata\\anaconda3\\lib\\site-packages)\n",
      "WARNING: Ignoring invalid distribution -ndas (c:\\programdata\\anaconda3\\lib\\site-packages)\n",
      "WARNING: Ignoring invalid distribution -ikit-learn (c:\\programdata\\anaconda3\\lib\\site-packages)\n",
      "WARNING: Ignoring invalid distribution -ython (c:\\programdata\\anaconda3\\lib\\site-packages)\n",
      "WARNING: Ignoring invalid distribution -python (c:\\programdata\\anaconda3\\lib\\site-packages)\n",
      "WARNING: Ignoring invalid distribution -ndas (c:\\programdata\\anaconda3\\lib\\site-packages)\n",
      "WARNING: Ignoring invalid distribution -ikit-learn (c:\\programdata\\anaconda3\\lib\\site-packages)\n",
      "WARNING: Ignoring invalid distribution - (c:\\programdata\\anaconda3\\lib\\site-packages)\n",
      "WARNING: Ignoring invalid distribution -cikit-learn (c:\\programdata\\anaconda3\\lib\\site-packages)\n",
      "WARNING: Ignoring invalid distribution -andas (c:\\programdata\\anaconda3\\lib\\site-packages)\n",
      "WARNING: Ignoring invalid distribution -ython (c:\\programdata\\anaconda3\\lib\\site-packages)\n",
      "WARNING: Ignoring invalid distribution -ndas (c:\\programdata\\anaconda3\\lib\\site-packages)\n",
      "WARNING: Ignoring invalid distribution -ikit-learn (c:\\programdata\\anaconda3\\lib\\site-packages)\n",
      "WARNING: Ignoring invalid distribution -ython (c:\\programdata\\anaconda3\\lib\\site-packages)\n",
      "WARNING: Ignoring invalid distribution -python (c:\\programdata\\anaconda3\\lib\\site-packages)\n",
      "WARNING: Ignoring invalid distribution -ndas (c:\\programdata\\anaconda3\\lib\\site-packages)\n",
      "WARNING: Ignoring invalid distribution -ikit-learn (c:\\programdata\\anaconda3\\lib\\site-packages)\n",
      "WARNING: Ignoring invalid distribution - (c:\\programdata\\anaconda3\\lib\\site-packages)\n",
      "WARNING: Ignoring invalid distribution -cikit-learn (c:\\programdata\\anaconda3\\lib\\site-packages)\n",
      "WARNING: Ignoring invalid distribution -andas (c:\\programdata\\anaconda3\\lib\\site-packages)\n",
      "WARNING: You are using pip version 21.1.3; however, version 21.2.4 is available.\n",
      "You should consider upgrading via the 'C:\\ProgramData\\Anaconda3\\python.exe -m pip install --upgrade pip' command.\n"
     ]
    },
    {
     "name": "stdout",
     "output_type": "stream",
     "text": [
      "\n",
      "---------------------------------- -------------------\n",
      "alabaster                          0.7.12\n",
      "anaconda-client                    1.7.2\n",
      "anaconda-navigator                 1.10.0\n",
      "anaconda-project                   0.8.3\n",
      "appdirs                            1.4.4\n",
      "argh                               0.26.2\n",
      "argon2-cffi                        20.1.0\n",
      "asn1crypto                         1.4.0\n",
      "astroid                            2.4.2\n",
      "astropy                            4.0.2\n",
      "async-generator                    1.10\n",
      "atomicwrites                       1.4.0\n",
      "attrs                              20.3.0\n",
      "audioread                          2.1.9\n",
      "autopep8                           1.5.4\n",
      "Babel                              2.8.1\n",
      "backcall                           0.2.0\n",
      "backports.functools-lru-cache      1.6.1\n",
      "backports.shutil-get-terminal-size 1.0.0\n",
      "backports.tempfile                 1.0\n",
      "backports.weakref                  1.0.post1\n",
      "baidu-aip                          2.2.18.0\n",
      "bcrypt                             3.2.0\n",
      "beautifulsoup4                     4.9.3\n",
      "bitarray                           1.6.1\n",
      "bkcharts                           0.2\n",
      "bleach                             3.2.1\n",
      "bokeh                              2.2.3\n",
      "boto                               2.49.0\n",
      "Bottleneck                         1.3.2\n",
      "brotlipy                           0.7.0\n",
      "catboost                           0.24.4\n",
      "certifi                            2020.6.20\n",
      "cffi                               1.14.3\n",
      "chardet                            3.0.4\n",
      "click                              7.1.2\n",
      "cloudpickle                        1.6.0\n",
      "clyent                             1.2.2\n",
      "colorama                           0.4.4\n",
      "comtypes                           1.1.7\n",
      "conda                              4.10.1\n",
      "conda-build                        3.20.5\n",
      "conda-package-handling             1.7.2\n",
      "conda-verify                       3.4.2\n",
      "contextlib2                        0.6.0.post1\n",
      "cryptography                       3.1.1\n",
      "cycler                             0.10.0\n",
      "Cython                             0.29.14\n",
      "cytoolz                            0.11.0\n",
      "dask                               2.30.0\n",
      "dataframe                          0.2.1.3\n",
      "DateTime                           4.3\n",
      "decorator                          4.4.2\n",
      "defusedxml                         0.6.0\n",
      "diff-match-patch                   20200713\n",
      "distributed                        2.30.1\n",
      "docutils                           0.16\n",
      "dukpy                              0.2.3\n",
      "entrypoints                        0.3\n",
      "et-xmlfile                         1.0.1\n",
      "fastcache                          1.1.0\n",
      "filelock                           3.0.12\n",
      "flake8                             3.8.4\n",
      "Flask                              1.1.2\n",
      "fsspec                             0.8.3\n",
      "future                             0.18.2\n",
      "gensim                             3.8.3\n",
      "gevent                             20.9.0\n",
      "glob2                              0.7\n",
      "graphviz                           0.16\n",
      "greenlet                           0.4.17\n",
      "h5py                               2.10.0\n",
      "HeapDict                           1.0.1\n",
      "html5lib                           1.1\n",
      "idna                               2.10\n",
      "imageio                            2.9.0\n",
      "imagesize                          1.2.0\n",
      "importlib-metadata                 2.0.0\n",
      "iniconfig                          1.1.1\n",
      "intervaltree                       3.1.0\n",
      "ipykernel                          5.3.4\n",
      "ipython                            7.19.0\n",
      "ipython-genutils                   0.2.0\n",
      "ipywidgets                         7.5.1\n",
      "isort                              5.6.4\n",
      "itsdangerous                       1.1.0\n",
      "javascripthon                      0.11\n",
      "jdcal                              1.4.1\n",
      "jedi                               0.17.1\n",
      "jieba                              0.42.1\n",
      "Jinja2                             2.11.2\n",
      "joblib                             0.17.0\n",
      "json5                              0.9.5\n",
      "jsonschema                         3.2.0\n",
      "jupyter                            1.0.0\n",
      "jupyter-client                     6.1.7\n",
      "jupyter-console                    6.2.0\n",
      "jupyter-contrib-core               0.3.3\n",
      "jupyter-contrib-nbextensions       0.5.1\n",
      "jupyter-core                       4.6.3\n",
      "jupyter-echarts-pypkg              0.1.1\n",
      "jupyter-highlight-selected-word    0.2.0\n",
      "jupyter-latex-envs                 1.4.6\n",
      "jupyter-nbextensions-configurator  0.4.1\n",
      "jupyter-pip                        0.3.1\n",
      "jupyterlab                         2.2.6\n",
      "jupyterlab-pygments                0.1.2\n",
      "jupyterlab-server                  1.2.0\n",
      "kdtree                             0.16\n",
      "keyring                            21.4.0\n",
      "kiwisolver                         1.3.0\n",
      "lazy-object-proxy                  1.4.3\n",
      "lesson                             0.0.1\n",
      "libarchive-c                       2.9\n",
      "librosa                            0.8.1\n",
      "lightgbm                           3.1.1\n",
      "llvmlite                           0.34.0\n",
      "lml                                0.0.2\n",
      "locket                             0.2.0\n",
      "lxml                               4.6.1\n",
      "macropy3                           1.1.0b2\n",
      "MarkupSafe                         1.1.1\n",
      "matplotlib                         3.3.2\n",
      "mccabe                             0.6.1\n",
      "menuinst                           1.4.16\n",
      "mistune                            0.8.4\n",
      "mkl-fft                            1.2.0\n",
      "mkl-random                         1.1.1\n",
      "mkl-service                        2.3.0\n",
      "mock                               4.0.2\n",
      "more-itertools                     8.6.0\n",
      "mpmath                             1.1.0\n",
      "msgpack                            1.0.0\n",
      "multipledispatch                   0.6.0\n",
      "mysql                              0.0.2\n",
      "mysqlclient                        2.0.3\n",
      "navigator-updater                  0.2.1\n",
      "nbclient                           0.5.1\n",
      "nbconvert                          6.0.7\n",
      "nbformat                           5.0.8\n",
      "nest-asyncio                       1.4.2\n",
      "networkx                           2.5\n",
      "nltk                               3.5\n",
      "nose                               1.3.7\n",
      "notebook                           6.1.4\n",
      "numba                              0.51.2\n",
      "numexpr                            2.7.1\n",
      "numpy                              1.19.2\n",
      "numpydoc                           1.1.0\n",
      "olefile                            0.46\n",
      "opencv-python                      4.5.1.48\n",
      "openpyxl                           3.0.5\n",
      "packaging                          20.4\n",
      "pandas                             1.2.3\n",
      "pandocfilters                      1.4.3\n",
      "paramiko                           2.7.2\n",
      "parso                              0.7.0\n",
      "partd                              1.1.0\n",
      "path                               15.0.0\n",
      "pathlib2                           2.3.5\n",
      "pathtools                          0.1.2\n",
      "patsy                              0.5.1\n",
      "pep8                               1.7.1\n",
      "pexpect                            4.8.0\n",
      "pickleshare                        0.7.5\n",
      "Pillow                             8.0.1\n",
      "pip                                21.1.3\n",
      "pkginfo                            1.6.1\n",
      "plotly                             4.14.3\n",
      "pluggy                             0.13.1\n",
      "ply                                3.11\n",
      "pooch                              1.4.0\n",
      "prettytable                        2.0.0\n",
      "prometheus-client                  0.8.0\n",
      "prompt-toolkit                     3.0.8\n",
      "psutil                             5.7.2\n",
      "py                                 1.9.0\n",
      "PyAudio                            0.2.11\n",
      "pycodestyle                        2.6.0\n",
      "pycosat                            0.6.3\n",
      "pycparser                          2.20\n",
      "pycurl                             7.43.0.6\n",
      "pydocstyle                         5.1.1\n",
      "pyecharts                          0.1.9.5\n",
      "pyflakes                           2.2.0\n",
      "Pygments                           2.7.2\n",
      "pylint                             2.6.0\n",
      "PyMySQL                            1.0.2\n",
      "PyNaCl                             1.4.0\n",
      "pyodbc                             4.0.0-unsupported\n",
      "pyOpenSSL                          19.1.0\n",
      "pyparsing                          2.4.7\n",
      "pypiwin32                          223\n",
      "pyreadline                         2.1\n",
      "pyrsistent                         0.17.3\n",
      "PySocks                            1.7.1\n",
      "pytest                             6.2.3\n",
      "python-dateutil                    2.8.1\n",
      "python-jsonrpc-server              0.4.0\n",
      "python-language-server             0.35.1\n",
      "pyttsx3                            2.90\n",
      "pytz                               2020.1\n",
      "PyWavelets                         1.1.1\n",
      "pywin32                            227\n",
      "pywin32-ctypes                     0.2.0\n",
      "pywinpty                           0.5.7\n",
      "PyYAML                             5.3.1\n",
      "pyzmq                              19.0.2\n",
      "QDarkStyle                         2.8.1\n",
      "QtAwesome                          1.0.1\n",
      "qtconsole                          4.7.7\n",
      "QtPy                               1.9.0\n",
      "regex                              2020.10.15\n",
      "requests                           2.24.0\n",
      "resampy                            0.2.2\n",
      "retrying                           1.3.3\n",
      "rope                               0.18.0\n",
      "Rtree                              0.9.4\n",
      "ruamel-yaml                        0.15.87\n",
      "schedule                           0.6.0\n",
      "scikit-image                       0.17.2\n",
      "scikit-learn                       0.23.2\n",
      "scipy                              1.5.2\n",
      "seaborn                            0.11.0\n",
      "selenium                           3.141.0\n",
      "Send2Trash                         1.5.0\n",
      "setuptools                         50.3.1.post20201107\n",
      "simplegeneric                      0.8.1\n",
      "simplejson                         3.17.2\n",
      "singledispatch                     3.4.0.3\n",
      "sip                                4.19.13\n",
      "six                                1.15.0\n",
      "sklearn                            0.0\n",
      "smart-open                         4.2.0\n",
      "snowballstemmer                    2.0.0\n",
      "sortedcollections                  1.2.1\n",
      "sortedcontainers                   2.2.2\n",
      "SoundFile                          0.10.3.post1\n",
      "soupsieve                          2.0.1\n",
      "Sphinx                             3.2.1\n",
      "sphinxcontrib-applehelp            1.0.2\n",
      "sphinxcontrib-devhelp              1.0.2\n",
      "sphinxcontrib-htmlhelp             1.0.3\n",
      "sphinxcontrib-jsmath               1.0.1\n",
      "sphinxcontrib-qthelp               1.0.3\n",
      "sphinxcontrib-serializinghtml      1.1.4\n",
      "sphinxcontrib-websupport           1.2.4\n",
      "spyder                             4.1.5\n",
      "spyder-kernels                     1.9.4\n",
      "SQLAlchemy                         1.3.20\n",
      "statsmodels                        0.12.0\n",
      "sympy                              1.6.2\n",
      "tables                             3.6.1\n",
      "tabulate                           0.8.9\n",
      "tblib                              1.7.0\n",
      "terminado                          0.9.1\n",
      "testpath                           0.4.4\n",
      "threadpoolctl                      2.1.0\n",
      "tifffile                           2020.10.1\n",
      "toml                               0.10.1\n",
      "toolz                              0.11.1\n",
      "tornado                            6.0.4\n",
      "tqdm                               4.50.2\n",
      "traitlets                          5.0.5\n",
      "typing-extensions                  3.7.4.3\n",
      "ujson                              4.0.1\n",
      "unicodecsv                         0.14.1\n",
      "urllib3                            1.25.11\n",
      "watchdog                           0.10.3\n",
      "wcwidth                            0.2.5\n",
      "webencodings                       0.5.1\n",
      "Werkzeug                           1.0.1\n",
      "wheel                              0.35.1\n",
      "widgetsnbextension                 3.5.1\n",
      "win-inet-pton                      1.1.0\n",
      "win-unicode-console                0.5\n",
      "wincertstore                       0.2\n",
      "wordcloud                          1.8.1\n",
      "wrapt                              1.11.2\n",
      "xgboost                            1.3.3\n",
      "xlrd                               1.2.0\n",
      "XlsxWriter                         1.3.7\n",
      "xlwings                            0.20.8\n",
      "xlwt                               1.3.0\n",
      "xmltodict                          0.12.0\n",
      "yapf                               0.30.0\n",
      "zict                               2.0.0\n",
      "zipp                               3.4.0\n",
      "zope.event                         4.5.0\n",
      "zope.interface                     5.1.2\n"
     ]
    }
   ],
   "source": [
    "import platform\n",
    "import datetime\n",
    "import sys\n",
    "import os\n",
    "\n",
    "\n",
    "your_name, your_code, work_counter = \"杜培博\", 200507340136, 5\n",
    "print(f'我是：{your_name}，学号：{your_code}，这是我的第 {work_counter} 次作业。')\n",
    "print('现在是', datetime.datetime.now())\n",
    "print('我的机器信息如下：')\n",
    "print(platform.uname())\n",
    "\n",
    "print('\\n当前工作目录：')\n",
    "print(os.getcwd())\n",
    "print('\\n当前目录的文件信息如下：')\n",
    "print(os.listdir())\n",
    "print('\\n我安装包的情况:')\n",
    "!pip list"
   ]
  },
  {
   "cell_type": "markdown",
   "metadata": {},
   "source": [
    "# 机器学习第四次作业补交(bolo注释未交)"
   ]
  },
  {
   "cell_type": "markdown",
   "metadata": {},
   "source": [
    "# 二维的bolo注释："
   ]
  },
  {
   "cell_type": "code",
   "execution_count": 2,
   "metadata": {},
   "outputs": [
    {
     "name": "stderr",
     "output_type": "stream",
     "text": [
      "Duplicate key in file WindowsPath('C:/ProgramData/Anaconda3/lib/site-packages/matplotlib/mpl-data/matplotlibrc'), line 253 ('font.family:  sans-serif')\n",
      "Duplicate key in file WindowsPath('C:/ProgramData/Anaconda3/lib/site-packages/matplotlib/mpl-data/matplotlibrc'), line 261 ('font.sans-serif: DejaVu Sans, Bitstream Vera Sans, Computer Modern Sans Serif, Lucida Grande, Verdana, Geneva, Lucid, Arial, Helvetica, Avant Garde, sans-serif')\n",
      "Duplicate key in file WindowsPath('C:/ProgramData/Anaconda3/lib/site-packages/matplotlib/mpl-data/matplotlibrc'), line 404 ('axes.unicode_minus: True  # use Unicode for the minus symbol rather than hyphen.  See')\n"
     ]
    }
   ],
   "source": [
    "# 导入包\n",
    "import matplotlib.pyplot as plt     # 画图的包\n",
    "import numpy as np     \n",
    "import pylab as mpl  # import matplotlib as mpl\n",
    "from sklearn.datasets import make_blobs   # 产生数据集"
   ]
  },
  {
   "cell_type": "code",
   "execution_count": 3,
   "metadata": {},
   "outputs": [],
   "source": [
    "mpl.rcParams['font.sans-serif'] = ['FangSong']  # 指定默认字体\n",
    "mpl.rcParams['axes.unicode_minus'] = False  # 解决保存图像是负号'-'显示为方块的问题"
   ]
  },
  {
   "cell_type": "code",
   "execution_count": 4,
   "metadata": {},
   "outputs": [],
   "source": [
    "n_samples = 1500  # 生成1500个数据集\n",
    "random_state = 170  # 170这个是随机种子\n",
    "X, y = make_blobs(n_samples=n_samples, random_state=random_state)    # 生成数据集，包括1500个样本\n",
    "ages = np.vstack((X[y == 0][:500], X[y == 1][:500], X[y == 2][:500]))   # 将数据进行堆叠，shape为(1500, 2)\n",
    "y = np.array(([0] * 500 + [1] * 500 + [2] * 500))  #生成0 1 2 各500个"
   ]
  },
  {
   "cell_type": "code",
   "execution_count": 5,
   "metadata": {},
   "outputs": [
    {
     "data": {
      "text/plain": [
       "(1500, 2)"
      ]
     },
     "execution_count": 5,
     "metadata": {},
     "output_type": "execute_result"
    }
   ],
   "source": [
    "ages.shape"
   ]
  },
  {
   "cell_type": "code",
   "execution_count": 6,
   "metadata": {},
   "outputs": [],
   "source": [
    "k = 3  # 超参数"
   ]
  },
  {
   "cell_type": "code",
   "execution_count": 7,
   "metadata": {},
   "outputs": [],
   "source": [
    "np.random.seed(26)    #给numpy设置一个随机种子，保证每次都能产生相同的值"
   ]
  },
  {
   "cell_type": "code",
   "execution_count": 8,
   "metadata": {},
   "outputs": [],
   "source": [
    "centers = np.zeros([3, 2])    # 生成0矩阵\n",
    "centers_random = np.random.choice(range(len(y)), 3)  # 迭代起点\n",
    "centers_new = ages[centers_random]   # 随机选取中心\n",
    "dis_to_cent = np.zeros((k, len(ages)))  # 一个二维数据，相当于一个空的容器"
   ]
  },
  {
   "cell_type": "code",
   "execution_count": 9,
   "metadata": {},
   "outputs": [
    {
     "name": "stdout",
     "output_type": "stream",
     "text": [
      "[[-4.15339075  2.26127044]\n",
      " [ 1.52702056 -0.3195373 ]\n",
      " [ 5.67676703 -1.83908464]] [[-6.75762141 -2.73020017]\n",
      " [ 1.84525852  0.4253321 ]\n",
      " [ 4.39769001 -0.74347413]]\n",
      "[[-6.75762141 -2.73020017]\n",
      " [ 1.84525852  0.4253321 ]\n",
      " [ 4.39769001 -0.74347413]]\n",
      "centers_new==centers? False\n",
      "\n",
      "[[-6.75762141 -2.73020017]\n",
      " [ 1.84525852  0.4253321 ]\n",
      " [ 4.39769001 -0.74347413]] [[-6.86359894 -2.82525622]\n",
      " [ 1.50075368  0.48222053]\n",
      " [ 3.66970728 -0.30214221]]\n",
      "[[-6.86359894 -2.82525622]\n",
      " [ 1.50075368  0.48222053]\n",
      " [ 3.66970728 -0.30214221]]\n",
      "centers_new==centers? False\n",
      "\n",
      "[[-6.86359894 -2.82525622]\n",
      " [ 1.50075368  0.48222053]\n",
      " [ 3.66970728 -0.30214221]] [[-6.91387122 -2.86892335]\n",
      " [ 1.12528224  0.53713014]\n",
      " [ 3.17316379 -0.01823619]]\n",
      "[[-6.91387122 -2.86892335]\n",
      " [ 1.12528224  0.53713014]\n",
      " [ 3.17316379 -0.01823619]]\n",
      "centers_new==centers? False\n",
      "\n",
      "[[-6.91387122 -2.86892335]\n",
      " [ 1.12528224  0.53713014]\n",
      " [ 3.17316379 -0.01823619]] [[-7.00279938 -2.95423214]\n",
      " [ 0.60122668  0.55660753]\n",
      " [ 2.8850853   0.14349038]]\n",
      "[[-7.00279938 -2.95423214]\n",
      " [ 0.60122668  0.55660753]\n",
      " [ 2.8850853   0.14349038]]\n",
      "centers_new==centers? False\n",
      "\n",
      "[[-7.00279938 -2.95423214]\n",
      " [ 0.60122668  0.55660753]\n",
      " [ 2.8850853   0.14349038]] [[-7.18233684 -3.140328  ]\n",
      " [-0.42698995  0.51323031]\n",
      " [ 2.58189162  0.31213312]]\n",
      "[[-7.18233684 -3.140328  ]\n",
      " [-0.42698995  0.51323031]\n",
      " [ 2.58189162  0.31213312]]\n",
      "centers_new==centers? False\n",
      "\n",
      "[[-7.18233684 -3.140328  ]\n",
      " [-0.42698995  0.51323031]\n",
      " [ 2.58189162  0.31213312]] [[-7.6911276  -3.75082442]\n",
      " [-2.65030843  0.38873466]\n",
      " [ 2.22392163  0.41601268]]\n",
      "[[-7.6911276  -3.75082442]\n",
      " [-2.65030843  0.38873466]\n",
      " [ 2.22392163  0.41601268]]\n",
      "centers_new==centers? False\n",
      "\n",
      "[[-7.6911276  -3.75082442]\n",
      " [-2.65030843  0.38873466]\n",
      " [ 2.22392163  0.41601268]] [[-8.83802805 -5.3007987 ]\n",
      " [-4.42698901  0.07476828]\n",
      " [ 1.94218665  0.41000484]]\n",
      "[[-8.83802805 -5.3007987 ]\n",
      " [-4.42698901  0.07476828]\n",
      " [ 1.94218665  0.41000484]]\n",
      "centers_new==centers? False\n",
      "\n",
      "[[-8.83802805 -5.3007987 ]\n",
      " [-4.42698901  0.07476828]\n",
      " [ 1.94218665  0.41000484]] [[-8.94137566 -5.48137132]\n",
      " [-4.55490993  0.02920864]\n",
      " [ 1.91176144  0.40634045]]\n",
      "[[-8.94137566 -5.48137132]\n",
      " [-4.55490993  0.02920864]\n",
      " [ 1.91176144  0.40634045]]\n",
      "centers_new==centers? False\n",
      "\n",
      "[[-8.94137566 -5.48137132]\n",
      " [-4.55490993  0.02920864]\n",
      " [ 1.91176144  0.40634045]] [[-8.94137566 -5.48137132]\n",
      " [-4.55490993  0.02920864]\n",
      " [ 1.91176144  0.40634045]]\n",
      "[[-8.94137566 -5.48137132]\n",
      " [-4.55490993  0.02920864]\n",
      " [ 1.91176144  0.40634045]]\n",
      "centers_new==centers? True\n",
      "\n"
     ]
    }
   ],
   "source": [
    "while not (centers_new == centers).all():\n",
    "    centers = centers_new.copy()  # 注意python的赋值过程，进行展开讲解，== is 和复制方式\n",
    "    for ii in range(k):\n",
    "        dis_to_cent[ii] = np.linalg.norm(ages - centers[ii], axis=1)    # 计算每个数值到中心的距离\n",
    "\n",
    "    clusters = dis_to_cent.argmin(axis=0)   # 划分出每个类别\n",
    "\n",
    "    for ii in range(k):   # 重新计算中心\n",
    "        cluster = ages[clusters == ii]\n",
    "        centers_new[ii] = ages[clusters == ii].mean(0)\n",
    "\n",
    "    print(centers, centers_new)\n",
    "    print(centers_new)\n",
    "    print('centers_new==centers?', (centers_new == centers).all())\n",
    "    print()"
   ]
  },
  {
   "cell_type": "code",
   "execution_count": 10,
   "metadata": {},
   "outputs": [
    {
     "data": {
      "text/plain": [
       "Text(0.5, 1.0, '聚类的结果')"
      ]
     },
     "execution_count": 10,
     "metadata": {},
     "output_type": "execute_result"
    },
    {
     "data": {
      "image/png": "[encoded data removed]",
      "text/plain": [
       "<Figure size 576x288 with 2 Axes>"
      ]
     },
     "metadata": {
      "needs_background": "light"
     },
     "output_type": "display_data"
    }
   ],
   "source": [
    "plt.figure(figsize=(8, 4))   #创建画布\n",
    "ax = plt.subplot(121)  # 几行，几列，第几个，先按行数\n",
    "ax.scatter(ages[:, 0], ages[:, 1], c=y)  # x, y, 颜色，系统有基本的选择机制，不用写得太细\n",
    "\n",
    "ax.set_title('数据本身的标签')\n",
    "\n",
    "ax = plt.subplot(122)  # 几行，几列，第几个，先按行数\n",
    "ax.scatter(ages[:, 0], ages[:, 1], c=clusters)  # x, y, 颜色，系统有基本的选择机制，不用写得太细\n",
    "\n",
    "ax.set_title('聚类的结果')\n"
   ]
  },
  {
   "cell_type": "markdown",
   "metadata": {},
   "source": [
    "# 任务二：Numpy函数"
   ]
  },
  {
   "cell_type": "code",
   "execution_count": 11,
   "metadata": {},
   "outputs": [
    {
     "name": "stdout",
     "output_type": "stream",
     "text": [
      "我们的数组是：\n",
      "[[3 7]\n",
      " [9 1]]\n",
      "\n",
      "\n",
      "调用 sort() 函数：\n",
      "[[3 7]\n",
      " [1 9]]\n",
      "\n",
      "\n",
      "按列排序：\n",
      "[[3 1]\n",
      " [9 7]]\n",
      "\n",
      "\n",
      "我们的数组是：\n",
      "[(b'raju', 21) (b'anil', 25) (b'ravi', 17) (b'amar', 27)]\n",
      "\n",
      "\n",
      "按 name 排序：\n",
      "[(b'amar', 27) (b'anil', 25) (b'raju', 21) (b'ravi', 17)]\n"
     ]
    }
   ],
   "source": [
    "# 排序函数：numpy.sort(a, axis, kind, order)\n",
    "# a: 要排序的数组\n",
    "# axis: 沿着它排序数组的轴，如果没有数组会被展开，沿着最后的轴排序， axis=0 按列排序，axis=1 按行排序\n",
    "# kind: 默认为'quicksort'（快速排序）\n",
    "# order: 如果数组包含字段，则是要排序的字段\n",
    "import numpy as np\n",
    "\n",
    "a = np.array([[3, 7], [9, 1]])\n",
    "print('我们的数组是：')\n",
    "print(a)\n",
    "print('\\n')\n",
    "print('调用 sort() 函数：')\n",
    "print(np.sort(a))\n",
    "print('\\n')\n",
    "print('按列排序：')\n",
    "print(np.sort(a, axis=0))\n",
    "print('\\n')\n",
    "# 在 sort 函数中排序字段\n",
    "dt = np.dtype([('name', 'S10'), ('age', int)])\n",
    "a = np.array([(\"raju\", 21), (\"anil\", 25), (\"ravi\", 17), (\"amar\", 27)], dtype=dt)\n",
    "print('我们的数组是：')\n",
    "print(a)\n",
    "print('\\n')\n",
    "print('按 name 排序：')\n",
    "print(np.sort(a, order='name'))"
   ]
  },
  {
   "cell_type": "code",
   "execution_count": 12,
   "metadata": {},
   "outputs": [
    {
     "name": "stdout",
     "output_type": "stream",
     "text": [
      "[3 1 2]\n",
      "对 x 调用 argsort() 函数： [1 2 0]\n"
     ]
    }
   ],
   "source": [
    "# numpy.argsort() 函数返回的是数组值从小到大的索引值。\n",
    "x = np.array([3,  1,  2])  \n",
    "print (x)\n",
    "print ('对 x 调用 argsort() 函数：', np.argsort(x) )"
   ]
  },
  {
   "cell_type": "code",
   "execution_count": 13,
   "metadata": {},
   "outputs": [
    {
     "name": "stdout",
     "output_type": "stream",
     "text": [
      "调用 lexsort() 函数：\n",
      "[3 1 0 2]\n",
      "\n",
      "\n",
      "使用这个索引来获取排序后的数据：\n",
      "['amar, f.y.', 'anil, s.y.', 'raju, f.y.', 'ravi, s.y.']\n"
     ]
    }
   ],
   "source": [
    "# numpy.lexsort() 用于对多个序列进行排序。把它想象成对电子表格进行排序，每一列代表一个序列，排序时优先照顾靠后的列。\n",
    "\n",
    "# 这里举一个应用场景：小升初考试，重点班录取学生按照总成绩录取。在总成绩相同时，数学成绩高的优先录取，在总成绩和数学成绩都相同时，按照英语成绩录取…… 这里，总成绩排在电子表格的最后一列，数学成绩在倒数第二列，英语成绩在倒数第三列。\n",
    "import numpy as np \n",
    " \n",
    "nm =  ('raju','anil','ravi','amar') \n",
    "dv =  ('f.y.',  's.y.',  's.y.',  'f.y.') \n",
    "ind = np.lexsort((dv,nm))  \n",
    "print ('调用 lexsort() 函数：') \n",
    "print (ind) \n",
    "print ('\\n') \n",
    "print ('使用这个索引来获取排序后的数据：') \n",
    "print ([nm[i]  +  \", \"  + dv[i]  for i in ind])"
   ]
  },
  {
   "cell_type": "code",
   "execution_count": 14,
   "metadata": {},
   "outputs": [
    {
     "name": "stdout",
     "output_type": "stream",
     "text": [
      "我们的数组是：\n",
      "[[30 40 70]\n",
      " [80 20 10]\n",
      " [50 90 60]]\n",
      "\n",
      "\n",
      "调用 argmax() 函数：\n",
      "7\n",
      "\n",
      "\n",
      "展开数组：\n",
      "[30 40 70 80 20 10 50 90 60]\n",
      "\n",
      "\n",
      "沿轴 0 的最大值索引：\n",
      "[1 2 0]\n",
      "\n",
      "\n",
      "沿轴 1 的最大值索引：\n",
      "[2 0 1]\n",
      "\n",
      "\n",
      "调用 argmin() 函数：\n",
      "5\n",
      "\n",
      "\n",
      "展开数组中的最小值：\n",
      "10\n",
      "\n",
      "\n",
      "沿轴 0 的最小值索引：\n",
      "[0 1 1]\n",
      "\n",
      "\n",
      "沿轴 1 的最小值索引：\n",
      "[0 2 0]\n"
     ]
    }
   ],
   "source": [
    "# numpy.argmax() 和 numpy.argmin()函数分别沿给定轴返回最大和最小元素的索引。\n",
    "import numpy as np \n",
    " \n",
    "a = np.array([[30,40,70],[80,20,10],[50,90,60]])  \n",
    "print  ('我们的数组是：') \n",
    "print (a) \n",
    "print ('\\n') \n",
    "print ('调用 argmax() 函数：') \n",
    "print (np.argmax(a)) \n",
    "print ('\\n') \n",
    "print ('展开数组：') \n",
    "print (a.flatten()) \n",
    "print ('\\n') \n",
    "print ('沿轴 0 的最大值索引：') \n",
    "maxindex = np.argmax(a, axis =  0)  \n",
    "print (maxindex) \n",
    "print ('\\n') \n",
    "print ('沿轴 1 的最大值索引：') \n",
    "maxindex = np.argmax(a, axis =  1)  \n",
    "print (maxindex) \n",
    "print ('\\n') \n",
    "print ('调用 argmin() 函数：') \n",
    "minindex = np.argmin(a)  \n",
    "print (minindex) \n",
    "print ('\\n') \n",
    "print ('展开数组中的最小值：') \n",
    "print (a.flatten()[minindex]) \n",
    "print ('\\n') \n",
    "print ('沿轴 0 的最小值索引：') \n",
    "minindex = np.argmin(a, axis =  0)  \n",
    "print (minindex) \n",
    "print ('\\n') \n",
    "print ('沿轴 1 的最小值索引：') \n",
    "minindex = np.argmin(a, axis =  1)  \n",
    "print (minindex)"
   ]
  },
  {
   "cell_type": "code",
   "execution_count": 15,
   "metadata": {},
   "outputs": [
    {
     "name": "stdout",
     "output_type": "stream",
     "text": [
      "我们的数组是：\n",
      "[[30 40  0]\n",
      " [ 0 20 10]\n",
      " [50  0 60]]\n",
      "\n",
      "\n",
      "调用 nonzero() 函数：\n",
      "(array([0, 0, 1, 1, 2, 2], dtype=int64), array([0, 1, 1, 2, 0, 2], dtype=int64))\n"
     ]
    }
   ],
   "source": [
    "# vnumpy.nonzero() 函数返回输入数组中非零元素的索引。\n",
    "import numpy as np \n",
    " \n",
    "a = np.array([[30,40,0],[0,20,10],[50,0,60]])  \n",
    "print ('我们的数组是：')\n",
    "print (a)\n",
    "print ('\\n')\n",
    "print ('调用 nonzero() 函数：')\n",
    "print (np.nonzero (a))"
   ]
  },
  {
   "cell_type": "code",
   "execution_count": 16,
   "metadata": {},
   "outputs": [
    {
     "name": "stdout",
     "output_type": "stream",
     "text": [
      "我们的数组是：\n",
      "[[0. 1. 2.]\n",
      " [3. 4. 5.]\n",
      " [6. 7. 8.]]\n",
      "大于 3 的元素的索引：\n",
      "(array([1, 1, 2, 2, 2], dtype=int64), array([1, 2, 0, 1, 2], dtype=int64))\n",
      "使用这些索引来获取满足条件的元素：\n",
      "[4. 5. 6. 7. 8.]\n"
     ]
    }
   ],
   "source": [
    "# numpy.where() 函数返回输入数组中满足给定条件的元素的索引。\n",
    "import numpy as np \n",
    " \n",
    "x = np.arange(9.).reshape(3,  3)  \n",
    "print ('我们的数组是：')\n",
    "print (x)\n",
    "print ( '大于 3 的元素的索引：')\n",
    "y = np.where(x >  3)  \n",
    "print (y)\n",
    "print ('使用这些索引来获取满足条件的元素：')\n",
    "print (x[y])"
   ]
  },
  {
   "cell_type": "code",
   "execution_count": 17,
   "metadata": {},
   "outputs": [
    {
     "name": "stdout",
     "output_type": "stream",
     "text": [
      "我们的数组是：\n",
      "[[0. 1. 2.]\n",
      " [3. 4. 5.]\n",
      " [6. 7. 8.]]\n",
      "按元素的条件值：\n",
      "[[ True False  True]\n",
      " [False  True False]\n",
      " [ True False  True]]\n",
      "使用条件提取元素：\n",
      "[0. 2. 4. 6. 8.]\n"
     ]
    }
   ],
   "source": [
    "# numpy.extract() 函数根据某个条件从数组中抽取元素，返回满条件的元素。\n",
    "x = np.arange(9.).reshape(3,  3)  \n",
    "print ('我们的数组是：')\n",
    "print (x)\n",
    "# 定义条件, 选择偶数元素\n",
    "condition = np.mod(x,2)  ==  0  \n",
    "print ('按元素的条件值：')\n",
    "print (condition)\n",
    "print ('使用条件提取元素：')\n",
    "print (np.extract(condition, x))"
   ]
  },
  {
   "cell_type": "code",
   "execution_count": 18,
   "metadata": {},
   "outputs": [
    {
     "name": "stdout",
     "output_type": "stream",
     "text": [
      "我们的数组是：\n",
      "[   1  256 8755]\n",
      "以十六进制表示内存中的数据：\n",
      "<map object at 0x0000028626FFB130>\n",
      "调用 byteswap() 函数：\n",
      "[  256     1 13090]\n",
      "十六进制形式：\n",
      "<map object at 0x0000028626FFB130>\n"
     ]
    }
   ],
   "source": [
    "# numpy.ndarray.byteswap() 函数将 ndarray 中每个元素中的字节进行大小端转换\n",
    "a = np.array([1,  256,  8755], dtype = np.int16)  \n",
    "print ('我们的数组是：')\n",
    "print (a)\n",
    "print ('以十六进制表示内存中的数据：')\n",
    "print (map(hex,a))\n",
    "# byteswap() 函数通过传入 true 来原地交换 \n",
    "print ('调用 byteswap() 函数：')\n",
    "print (a.byteswap(True))\n",
    "print ('十六进制形式：')\n",
    "print (map(hex,a))"
   ]
  },
  {
   "cell_type": "code",
   "execution_count": 19,
   "metadata": {},
   "outputs": [
    {
     "name": "stdout",
     "output_type": "stream",
     "text": [
      "我们的数组是：\n",
      "[0 1 2 3 4 5]\n",
      "调用 id() 函数：\n",
      "2775185247328\n",
      "a 赋值给 b：\n",
      "[0 1 2 3 4 5]\n",
      "b 拥有相同 id()：\n",
      "2775185247328\n",
      "修改 b 的形状：\n",
      "[[0 1]\n",
      " [2 3]\n",
      " [4 5]]\n",
      "a 的形状也修改了：\n",
      "[[0 1]\n",
      " [2 3]\n",
      " [4 5]]\n"
     ]
    }
   ],
   "source": [
    "a = np.arange(6)  \n",
    "print ('我们的数组是：')\n",
    "print (a)\n",
    "print ('调用 id() 函数：')\n",
    "print (id(a))\n",
    "print ('a 赋值给 b：')\n",
    "b = a \n",
    "print (b)\n",
    "print ('b 拥有相同 id()：')\n",
    "print (id(b))\n",
    "print ('修改 b 的形状：')\n",
    "b.shape =  3,2  \n",
    "print (b)\n",
    "print ('a 的形状也修改了：')\n",
    "print (a)"
   ]
  },
  {
   "cell_type": "code",
   "execution_count": 20,
   "metadata": {},
   "outputs": [
    {
     "name": "stdout",
     "output_type": "stream",
     "text": [
      "数组 a：\n",
      "[[0 1]\n",
      " [2 3]\n",
      " [4 5]]\n",
      "创建 a 的视图：\n",
      "[[0 1]\n",
      " [2 3]\n",
      " [4 5]]\n",
      "两个数组的 id() 不同：\n",
      "a 的 id()：\n",
      "2775186073920\n",
      "b 的 id()：\n",
      "2775186075440\n",
      "b 的形状：\n",
      "[[0 1 2]\n",
      " [3 4 5]]\n",
      "a\n"
     ]
    }
   ],
   "source": [
    "# 视图\n",
    "a = np.arange(6).reshape(3,2)  \n",
    "print ('数组 a：')\n",
    "print (a)\n",
    "print ('创建 a 的视图：')\n",
    "b = a.view()  \n",
    "print (b)\n",
    "print ('两个数组的 id() 不同：')\n",
    "print ('a 的 id()：')\n",
    "print (id(a))\n",
    "print ('b 的 id()：' )\n",
    "print (id(b))\n",
    "# 修改 b 的形状，并不会修改 a\n",
    "b.shape =  2,3\n",
    "print ('b 的形状：')\n",
    "print (b)\n",
    "print ('a')"
   ]
  },
  {
   "cell_type": "code",
   "execution_count": 21,
   "metadata": {},
   "outputs": [
    {
     "name": "stdout",
     "output_type": "stream",
     "text": [
      "数组 a：\n",
      "[[10 10]\n",
      " [ 2  3]\n",
      " [ 4  5]]\n",
      "创建 a 的深层副本：\n",
      "数组 b：\n",
      "[[10 10]\n",
      " [ 2  3]\n",
      " [ 4  5]]\n",
      "我们能够写入 b 来写入 a 吗？\n",
      "False\n",
      "修改 b 的内容：\n",
      "修改后的数组 b：\n",
      "[[100  10]\n",
      " [  2   3]\n",
      " [  4   5]]\n",
      "a 保持不变：\n",
      "[[10 10]\n",
      " [ 2  3]\n",
      " [ 4  5]]\n"
     ]
    }
   ],
   "source": [
    "# 副本和深拷贝\n",
    "a = np.array([[10,10],  [2,3],  [4,5]])  \n",
    "print ('数组 a：')\n",
    "print (a)\n",
    "print ('创建 a 的深层副本：')\n",
    "b = a.copy()  \n",
    "print ('数组 b：')\n",
    "print (b)\n",
    "# b 与 a 不共享任何内容  \n",
    "print ('我们能够写入 b 来写入 a 吗？')\n",
    "print (b is a)\n",
    "print ('修改 b 的内容：')\n",
    "b[0,0]  =  100  \n",
    "print ('修改后的数组 b：')\n",
    "print (b)\n",
    "print ('a 保持不变：')\n",
    "print (a)"
   ]
  },
  {
   "cell_type": "markdown",
   "metadata": {},
   "source": [
    "# 任务三; 代码与伪代码"
   ]
  },
  {
   "cell_type": "markdown",
   "metadata": {},
   "source": [
    "## 伪代码："
   ]
  },
  {
   "cell_type": "code",
   "execution_count": 22,
   "metadata": {},
   "outputs": [],
   "source": [
    "# 输入：目标函数，学习率，起始点， 阈值\n",
    "# 过程：\n",
    "# \t初始化目标函数\n",
    "# \t初始化梯度函数\n",
    "# repeat\n",
    "# \t计算梯度\n",
    "# \tIf 梯度小于阈值进行判断\n",
    "# \t\t记录数就，停止\n",
    "# \t否则\n",
    "# \t\t下降，初始化多个lambda\n",
    "# \t\t通过变化的大小，找出最合适的那个Lambda，然后进行移动\n",
    "# \tIf X or f(X)中的变化量小于阈值\n",
    "# \t\t记录数就，停止\n",
    "# 记录此时的数据"
   ]
  },
  {
   "cell_type": "markdown",
   "metadata": {},
   "source": [
    "## 代码："
   ]
  },
  {
   "cell_type": "code",
   "execution_count": 23,
   "metadata": {},
   "outputs": [],
   "source": [
    "import numpy as np"
   ]
  },
  {
   "cell_type": "code",
   "execution_count": 24,
   "metadata": {},
   "outputs": [],
   "source": [
    "# 首先初始化函数\n",
    "def f(x):\n",
    "    return x ** 2 + 10 * np.sin(x)"
   ]
  },
  {
   "cell_type": "code",
   "execution_count": 25,
   "metadata": {},
   "outputs": [],
   "source": [
    "# 然后初始化梯度函数\n",
    "def df(x):\n",
    "    return 2 * x + 10 * np.cos(x)"
   ]
  },
  {
   "cell_type": "code",
   "execution_count": 26,
   "metadata": {},
   "outputs": [],
   "source": [
    "# 定义一个阈值\n",
    "value = 10e-8"
   ]
  },
  {
   "cell_type": "code",
   "execution_count": 27,
   "metadata": {},
   "outputs": [],
   "source": [
    "# 初始化起始点\n",
    "k = 2"
   ]
  },
  {
   "cell_type": "code",
   "execution_count": 28,
   "metadata": {},
   "outputs": [
    {
     "name": "stdout",
     "output_type": "stream",
     "text": [
      "局部最优的坐标X值为： 3.837467103051607\n",
      "局部最优的学习率为： 11.379734337973433\n"
     ]
    }
   ],
   "source": [
    "while True:\n",
    "    grad = df(k)\n",
    "#     print(grad)\n",
    "    if np.abs(df(k)) < value:\n",
    "        x_mark = k\n",
    "        break\n",
    "    else:\n",
    "        # 找出最合适的学习率\n",
    "        Lambda = np.linspace(0, 12, 10000000)\n",
    "        tem = k-Lambda * grad       # 直接减去的梯度的方向，\n",
    "        base_Lambda = Lambda[np.argmin(f(tem))]\n",
    "#         print(\"最佳的学习率为\", Lambda[np.argmin(f(tem))])\n",
    "    if np.abs(k - (k-base_Lambda * grad)) < value or np.abs(f(k) - f(k-base_Lambda * grad)) < value:\n",
    "        x_mark = k-base_Lambda * grad\n",
    "        # print(\"在下面停止\")\n",
    "        break\n",
    "    k = k-base_Lambda * grad\n",
    "    # print(k)\n",
    "print(\"局部最优的坐标X值为：\",x_mark)\n",
    "print(\"局部最优的学习率为：\", base_Lambda)"
   ]
  },
  {
   "cell_type": "code",
   "execution_count": null,
   "metadata": {},
   "outputs": [],
   "source": []
  },
  {
   "cell_type": "code",
   "execution_count": null,
   "metadata": {},
   "outputs": [],
   "source": []
  }
 ],
 "metadata": {
  "kernelspec": {
   "display_name": "Python 3 (ipykernel)",
   "language": "python",
   "name": "python3"
  },
  "language_info": {
   "codemirror_mode": {
    "name": "ipython",
    "version": 3
   },
   "file_extension": ".py",
   "mimetype": "text/x-python",
   "name": "python",
   "nbconvert_exporter": "python",
   "pygments_lexer": "ipython3",
   "version": "3.9.13"
  }
 },
 "nbformat": 4,
 "nbformat_minor": 4
}
